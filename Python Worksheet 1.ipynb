{
 "cells": [
  {
   "cell_type": "markdown",
   "id": "660cd9c6",
   "metadata": {},
   "source": [
    "# program for factorial of a number"
   ]
  },
  {
   "cell_type": "code",
   "execution_count": 1,
   "id": "36a6664d",
   "metadata": {},
   "outputs": [
    {
     "name": "stdout",
     "output_type": "stream",
     "text": [
      "Enter a number: 5\n",
      "factorial:  1\n",
      "factorial:  2\n",
      "factorial:  6\n",
      "factorial:  24\n",
      "factorial:  120\n"
     ]
    }
   ],
   "source": [
    "n=(int)(input(\"Enter a number: \"))\n",
    "f=1\n",
    "for i in range(1,n+1,1):\n",
    "    f*=i\n",
    "    print(\"factorial: \",f)"
   ]
  },
  {
   "cell_type": "markdown",
   "id": "1b69b9ea",
   "metadata": {},
   "source": [
    "# program to find whether a number is prime or composite."
   ]
  },
  {
   "cell_type": "code",
   "execution_count": 2,
   "id": "fcf795a9",
   "metadata": {},
   "outputs": [
    {
     "name": "stdout",
     "output_type": "stream",
     "text": [
      "Enter a number: 5\n",
      "5 is a prime number\n"
     ]
    }
   ],
   "source": [
    "n=(int)(input(\"Enter a number: \"))\n",
    "if n>1:\n",
    "    for i in range(2,n):\n",
    "        if(n%i)==0:\n",
    "            print(n,\"is a composite number\")\n",
    "        else:\n",
    "            print(n,\"is a prime number\")\n",
    "                    \n",
    "        break"
   ]
  },
  {
   "cell_type": "markdown",
   "id": "e2221bf8",
   "metadata": {},
   "source": [
    "# program to check whether a given string is palindrome or not."
   ]
  },
  {
   "cell_type": "code",
   "execution_count": 3,
   "id": "3ddf8d63",
   "metadata": {},
   "outputs": [
    {
     "name": "stdout",
     "output_type": "stream",
     "text": [
      "Enter a string: radar\n",
      "yes\n"
     ]
    }
   ],
   "source": [
    "x=(str)(input(\"Enter a string: \"))\n",
    "\n",
    "w = \"\"\n",
    "for i in x:\n",
    "    w=i+w\n",
    "    \n",
    "if (x==w):\n",
    "    print (\"yes\")\n",
    "else:\n",
    "    print(\"No\")\n"
   ]
  },
  {
   "cell_type": "markdown",
   "id": "0d5487d6",
   "metadata": {},
   "source": [
    "# program to get the third side of right-angled triangle from two given sides."
   ]
  },
  {
   "cell_type": "code",
   "execution_count": 4,
   "id": "f8c95e74",
   "metadata": {},
   "outputs": [
    {
     "name": "stdout",
     "output_type": "stream",
     "text": [
      "hypotenuse = 5.0\n",
      "adjacent_side = 4.0\n",
      "opposite_side = 3.0\n",
      "You know the answer\n"
     ]
    }
   ],
   "source": [
    "def pythagoras(opposite_side,adjacent_side,hypotenuse):\n",
    "    if opposite_side == str(\"x\"):\n",
    "        return (\"opposite_side = \" + str(((hypotenuse**2) - (adjacent_side**2))**0.5))\n",
    "    elif adjacent_side == str(\"x\"):\n",
    "        return (\"adjacent_side = \" + str(((hypotenuse**2) - (opposite_side**2))**0.5))\n",
    "    elif hypotenuse == str(\"x\"):\n",
    "        return (\"hypotenuse = \" + str(((opposite_side**2) + (adjacent_side**2))**0.5))\n",
    "    else:\n",
    "        return(\"You know the answer\")\n",
    "\n",
    "print(pythagoras(3,4,'x'))\n",
    "print(pythagoras(3,'x',5))\n",
    "print(pythagoras('x',4,5))\n",
    "print(pythagoras(3,4,5))"
   ]
  },
  {
   "cell_type": "markdown",
   "id": "68b3d0b7",
   "metadata": {},
   "source": [
    "# program to print the frequency of each of the characters present in a given string."
   ]
  },
  {
   "cell_type": "code",
   "execution_count": 5,
   "id": "4f89f4b0",
   "metadata": {},
   "outputs": [
    {
     "name": "stdout",
     "output_type": "stream",
     "text": [
      "Enter a string: caramel\n",
      "c,1\n",
      "a,2\n",
      "r,1\n",
      "m,1\n",
      "e,1\n",
      "l,1\n"
     ]
    }
   ],
   "source": [
    "string = input(\"Enter a string: \")\n",
    "lst1 = []\n",
    "for char in string:\n",
    "    if char not in lst1:\n",
    "        lst1.append(char)\n",
    "for item in lst1:\n",
    "    print(item,string.count(item), sep = \",\")\n"
   ]
  },
  {
   "cell_type": "code",
   "execution_count": null,
   "id": "ee61098b",
   "metadata": {},
   "outputs": [],
   "source": []
  }
 ],
 "metadata": {
  "kernelspec": {
   "display_name": "Python 3 (ipykernel)",
   "language": "python",
   "name": "python3"
  },
  "language_info": {
   "codemirror_mode": {
    "name": "ipython",
    "version": 3
   },
   "file_extension": ".py",
   "mimetype": "text/x-python",
   "name": "python",
   "nbconvert_exporter": "python",
   "pygments_lexer": "ipython3",
   "version": "3.9.7"
  }
 },
 "nbformat": 4,
 "nbformat_minor": 5
}
